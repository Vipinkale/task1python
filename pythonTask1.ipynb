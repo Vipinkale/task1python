{
 "cells": [
  {
   "cell_type": "markdown",
   "id": "72d85dc1-c3da-485b-83c2-f905253dcb8a",
   "metadata": {},
   "source": [
    "1. Headings"
   ]
  },
  {
   "cell_type": "markdown",
   "id": "112f818d-6a56-4378-9b5c-c3999f8fbaa4",
   "metadata": {},
   "source": [
    "# H1\n",
    "## H2\n",
    "### H3\n",
    "#### H4"
   ]
  },
  {
   "cell_type": "markdown",
   "id": "94a4a3c1-10d7-4984-8467-ef4cf31dcb8f",
   "metadata": {},
   "source": [
    "2. Bold TEXT "
   ]
  },
  {
   "cell_type": "markdown",
   "id": "3e429a90-fe91-4a67-87e1-d25f495479c3",
   "metadata": {},
   "source": [
    "**PRERNA**"
   ]
  },
  {
   "cell_type": "markdown",
   "id": "09d97d59-4659-442c-a72c-2a0b63965995",
   "metadata": {},
   "source": [
    "3. Italic Text "
   ]
  },
  {
   "cell_type": "markdown",
   "id": "1e240075-777f-408f-bc99-c87770472c0f",
   "metadata": {},
   "source": [
    "*PRERNA*"
   ]
  },
  {
   "cell_type": "markdown",
   "id": "e1442676-843b-472b-84a3-9756fa1893c1",
   "metadata": {},
   "source": [
    "4.Blockquotes"
   ]
  },
  {
   "cell_type": "markdown",
   "id": "977dae3e-309f-4d6f-b165-906dfe632829",
   "metadata": {},
   "source": [
    ".> This is a blockquote."
   ]
  },
  {
   "cell_type": "markdown",
   "id": "1f86ae26-4cdb-4de5-ace2-7265dbe7e55a",
   "metadata": {},
   "source": [
    "5.Ordered Lists"
   ]
  },
  {
   "cell_type": "markdown",
   "id": "a8b9fd4e-0b2f-410f-8c9d-9da42ca69854",
   "metadata": {},
   "source": [
    "1.First item\n",
    "2.Second item\n",
    "3.Third item"
   ]
  },
  {
   "cell_type": "markdown",
   "id": "c7345ace-5c13-4138-86cb-d57bca8b7559",
   "metadata": {},
   "source": [
    "6.Unordered Lists\n"
   ]
  },
  {
   "cell_type": "markdown",
   "id": "1cc37acd-bbf5-4d46-b308-1cc9e42439f5",
   "metadata": {},
   "source": [
    "-Item 1\n",
    "-Item 2\n",
    "-Item 3"
   ]
  },
  {
   "cell_type": "markdown",
   "id": "14d4561c-3552-4e9b-8d97-26c0c47c637c",
   "metadata": {},
   "source": [
    "7.Code Blocks"
   ]
  },
  {
   "cell_type": "markdown",
   "id": "83413d09-4c67-4a87-8c14-9e54c8e309f3",
   "metadata": {},
   "source": [
    "<pre>\n",
    "    (\"Hello,World!\")\n",
    "</pre>"
   ]
  },
  {
   "cell_type": "markdown",
   "id": "2c0138f0-540e-4af4-9be1-60633908204a",
   "metadata": {},
   "source": [
    "8.Inline Code"
   ]
  },
  {
   "cell_type": "markdown",
   "id": "2cb07af9-f999-43c1-a0e3-3218dfcea814",
   "metadata": {},
   "source": [
    "This is `inline code`."
   ]
  },
  {
   "cell_type": "markdown",
   "id": "b59e5cec-3c4d-48c7-9065-ed0f6d9013ca",
   "metadata": {},
   "source": [
    "9.Hyperlinks"
   ]
  },
  {
   "cell_type": "markdown",
   "id": "da41bf40-c4af-4f90-ab08-4bbbae7d0f09",
   "metadata": {},
   "source": [
    "[Jupyter Documentation](https://jupyter.org/documentation)"
   ]
  },
  {
   "cell_type": "markdown",
   "id": "14989250-3782-4a9c-8725-cfe61b6c0def",
   "metadata": {},
   "source": [
    "10.Horizontal line"
   ]
  },
  {
   "cell_type": "markdown",
   "id": "e598ed33-d0b0-41aa-b843-ed9ac88a9402",
   "metadata": {},
   "source": [
    "***"
   ]
  },
  {
   "cell_type": "markdown",
   "id": "fcfdab7c-80ec-4250-b42f-ecf67cb90fee",
   "metadata": {},
   "source": [
    " 11.Escaping characters"
   ]
  },
  {
   "cell_type": "markdown",
   "id": "2e7a7d0c-bbd4-4d50-ae9a-6f46bd8f73ad",
   "metadata": {},
   "source": [
    "\\*Escaped asterisk\\*"
   ]
  },
  {
   "cell_type": "code",
   "execution_count": null,
   "id": "0b08e996-1dc7-4a2c-8229-315f78af1fdd",
   "metadata": {},
   "outputs": [],
   "source": []
  },
  {
   "cell_type": "markdown",
   "id": "9c3607ac-fef4-4442-bf41-4b69cb54cb74",
   "metadata": {},
   "source": [
    "12. Task Lists"
   ]
  },
  {
   "cell_type": "markdown",
   "id": "0e67738c-c879-499f-b064-edfc9a844931",
   "metadata": {},
   "source": [
    "-[] Task 1\n",
    "-[X] Task 2"
   ]
  },
  {
   "cell_type": "markdown",
   "id": "c7d4e0e1-9234-4911-b8a6-294092157549",
   "metadata": {},
   "source": [
    "13.Footnotes"
   ]
  },
  {
   "cell_type": "markdown",
   "id": "c72aff9e-7ba0-466e-a747-69777c8a94bc",
   "metadata": {},
   "source": [
    "[^1]: This is the footnote text"
   ]
  },
  {
   "cell_type": "markdown",
   "id": "25d124a6-56d3-4a82-b966-b25dbb0688d0",
   "metadata": {},
   "source": [
    "14.strikethrough"
   ]
  },
  {
   "cell_type": "markdown",
   "id": "f86d990e-36ab-485b-8d70-9d7ce7648ac2",
   "metadata": {},
   "source": [
    "~~This text is strikethrough~~"
   ]
  },
  {
   "cell_type": "markdown",
   "id": "c7ccc175-2f0a-473d-b187-c2c6716d1474",
   "metadata": {},
   "source": [
    "15.Superscript and Subscript"
   ]
  },
  {
   "cell_type": "markdown",
   "id": "6dbeb0e9-d14d-48f2-96cf-db8e1f388890",
   "metadata": {},
   "source": [
    "This is a superscript example:\n",
    "H<sup>2</sup>0"
   ]
  },
  {
   "cell_type": "markdown",
   "id": "eea8b1b1-419f-4f98-8da2-40395d73e1db",
   "metadata": {},
   "source": [
    "This is a subscript example:CO<sub>2</sub>"
   ]
  },
  {
   "cell_type": "code",
   "execution_count": null,
   "id": "d724951c-35af-4cda-b87b-9b0a72ae7cac",
   "metadata": {},
   "outputs": [],
   "source": []
  }
 ],
 "metadata": {
  "kernelspec": {
   "display_name": "Python 3 (ipykernel)",
   "language": "python",
   "name": "python3"
  },
  "language_info": {
   "codemirror_mode": {
    "name": "ipython",
    "version": 3
   },
   "file_extension": ".py",
   "mimetype": "text/x-python",
   "name": "python",
   "nbconvert_exporter": "python",
   "pygments_lexer": "ipython3",
   "version": "3.12.4"
  }
 },
 "nbformat": 4,
 "nbformat_minor": 5
}
